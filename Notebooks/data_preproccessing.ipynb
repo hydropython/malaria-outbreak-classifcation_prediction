{
 "cells": [
  {
   "cell_type": "code",
   "execution_count": 2,
   "metadata": {},
   "outputs": [],
   "source": [
    "import sys\n",
    "import os\n",
    "import pandas as pd\n",
    "sys.path.append(os.path.abspath('../Scripts'))\n",
    "\n",
    "\n",
    "from preprocess_medoan import MalariaPreprocessor\n"
   ]
  },
  {
   "cell_type": "code",
   "execution_count": 3,
   "metadata": {},
   "outputs": [
    {
     "name": "stdout",
     "output_type": "stream",
     "text": [
      "Data loaded successfully with shape: (314, 18)\n",
      "Data preprocessing completed. Added 'target' column.\n",
      "Class 1 Count (Higher): 146\n",
      "Class 0 Count (Lower): 168\n",
      "Median Thresholds (by Month and Week):\n",
      "    month  week  Median\n",
      "0       1     1    8.00\n",
      "1       1     2   13.00\n",
      "2       1     3    8.75\n",
      "3       1     4    7.00\n",
      "4       1    52  143.00\n",
      "..    ...   ...     ...\n",
      "57     12    48   92.00\n",
      "58     12    49   29.00\n",
      "59     12    50   54.50\n",
      "60     12    51   61.50\n",
      "61     12    52    5.00\n",
      "\n",
      "[62 rows x 3 columns]\n"
     ]
    }
   ],
   "source": [
    "# Example Usage\n",
    "data_path = '../Data/merged_weekly_Sayo.csv'\n",
    "target_column = 'Sayo'\n",
    "\n",
    "# Instantiate the class\n",
    "processor = MalariaPreprocessor(data_path, target_column)\n",
    "\n",
    "# Load, preprocess, and analyze the data\n",
    "processor.load_data()\n",
    "processor.preprocess()\n",
    "\n",
    "# Get numerical output of class counts and median thresholds\n",
    "summary = processor.get_classification_summary()\n",
    "\n",
    "# Print results\n",
    "print(f\"Class 1 Count (Higher): {summary['Class 1 Count (Higher)']}\")\n",
    "print(f\"Class 0 Count (Lower): {summary['Class 0 Count (Lower)']}\")\n",
    "print(\"Median Thresholds (by Month and Week):\")\n",
    "print(summary['Median Thresholds'])"
   ]
  },
  {
   "cell_type": "code",
   "execution_count": 4,
   "metadata": {},
   "outputs": [
    {
     "name": "stdout",
     "output_type": "stream",
     "text": [
      "Data loaded successfully with shape: (314, 18)\n",
      "Data preprocessing completed. Added 'target' column.\n",
      "Class 1 Count (Higher): 146\n",
      "Class 0 Count (Lower): 168\n",
      "Median Thresholds (by Month and Week):\n",
      "    month  week  Median\n",
      "0       1     1    8.00\n",
      "1       1     2   13.00\n",
      "2       1     3    8.75\n",
      "3       1     4    7.00\n",
      "4       1    52  143.00\n",
      "..    ...   ...     ...\n",
      "57     12    48   92.00\n",
      "58     12    49   29.00\n",
      "59     12    50   54.50\n",
      "60     12    51   61.50\n",
      "61     12    52    5.00\n",
      "\n",
      "[62 rows x 3 columns]\n"
     ]
    }
   ],
   "source": [
    "\n",
    "\n",
    "# Load data\n",
    "processor.load_data()\n",
    "\n",
    "# Preprocess the data\n",
    "processor.preprocess()\n",
    "\n",
    "# Get summary of classifications and medians\n",
    "summary = processor.get_classification_summary()\n",
    "\n",
    "# Print the results\n",
    "print(f\"Class 1 Count (Higher): {summary['Class 1 Count (Higher)']}\")\n",
    "print(f\"Class 0 Count (Lower): {summary['Class 0 Count (Lower)']}\")\n",
    "print(\"Median Thresholds (by Month and Week):\")\n",
    "print(summary['Median Thresholds'])"
   ]
  },
  {
   "cell_type": "code",
   "execution_count": 5,
   "metadata": {},
   "outputs": [
    {
     "name": "stdout",
     "output_type": "stream",
     "text": [
      "Updated data with 'Median_classification' saved to: ../Data/merged_weekly_Sayo.csv\n"
     ]
    }
   ],
   "source": [
    "# Save the updated dataset with the new column back to the original file\n",
    "processor.save_with_classification()"
   ]
  },
  {
   "cell_type": "code",
   "execution_count": 6,
   "metadata": {},
   "outputs": [
    {
     "name": "stderr",
     "output_type": "stream",
     "text": [
      "d:\\Malaria data\\malaria-outbreak-classifcation_prediction\\Scripts\\preprocess_medoan.py:48: FutureWarning: \n",
      "\n",
      "Passing `palette` without assigning `hue` is deprecated and will be removed in v0.14.0. Assign the `x` variable to `hue` and set `legend=False` for the same effect.\n",
      "\n",
      "  sns.countplot(x='target', data=self.data, palette='viridis')\n"
     ]
    },
    {
     "data": {
      "image/png": "[encoded data removed]",
      "text/plain": [
       "<Figure size 640x480 with 1 Axes>"
      ]
     },
     "metadata": {},
     "output_type": "display_data"
    }
   ],
   "source": [
    "processor.visualize_target_distribution()"
   ]
  }
 ],
 "metadata": {
  "kernelspec": {
   "display_name": "env",
   "language": "python",
   "name": "python3"
  },
  "language_info": {
   "codemirror_mode": {
    "name": "ipython",
    "version": 3
   },
   "file_extension": ".py",
   "mimetype": "text/x-python",
   "name": "python",
   "nbconvert_exporter": "python",
   "pygments_lexer": "ipython3",
   "version": "3.12.6"
  }
 },
 "nbformat": 4,
 "nbformat_minor": 2
}
